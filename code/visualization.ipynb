{
 "cells": [
  {
   "cell_type": "code",
   "execution_count": null,
   "metadata": {},
   "outputs": [],
   "source": [
    "from __future__ import print_function # Python 2/3 compatibility\n",
    "import boto3\n",
    "import json\n",
    "import decimal\n",
    "\n",
    "\n",
    "class DecimalEncoder(json.JSONEncoder):\n",
    "    def default(self, o):\n",
    "        if isinstance(o, decimal.Decimal):\n",
    "            return str(o)\n",
    "        return super(DecimalEncoder, self).default(o)\n",
    "\n",
    "\n",
    "dynamodb = boto3.resource('dynamodb', region_name='us-west-2')\n",
    "table = dynamodb.Table('A0195028B')\n",
    "FD001 = {}\n",
    "FD002 = {}\n",
    "response = table.scan()\n",
    "for n in range(1, 101):\n",
    "    id_name = \"FD001_\" + str(n)\n",
    "    FD001[id_name] = {}\n",
    "    for j in response['Items'][0].keys():\n",
    "        FD001[id_name][j] = []\n",
    "    FD001[id_name].pop('Matric No')\n",
    "    FD001[id_name].pop('id')\n",
    "    FD001[id_name].pop('timestamp')\n",
    "    FD001[id_name].pop('clientToken')\n",
    "for n in range(1, 261):\n",
    "    id_name = \"FD002_\" + str(n)\n",
    "    FD002[id_name] = {}\n",
    "    for j in response['Items'][0].keys():\n",
    "        FD002[id_name][j] = []\n",
    "    FD002[id_name].pop('Matric No')\n",
    "    FD002[id_name].pop('id')\n",
    "    FD002[id_name].pop('timestamp')\n",
    "    FD002[id_name].pop('clientToken')\n",
    "for i in response['Items']:\n",
    "    if i['id'][4] == '1':\n",
    "        for k in FD001[i['id']].keys():\n",
    "            FD001[i['id']][k].append(float(i[k]))\n",
    "    else:\n",
    "        for k in FD002[i['id']].keys():\n",
    "            FD002[i['id']][k].append(float(i[k]))\n",
    "\n",
    "while 'LastEvaluatedKey' in response:\n",
    "    response = table.scan(\n",
    "        ExclusiveStartKey=response['LastEvaluatedKey']\n",
    "    )\n",
    "    for i in response['Items']:\n",
    "        if i['id'][4] == '1':\n",
    "            for k in FD001[i['id']].keys():\n",
    "                FD001[i['id']][k].append(float(i[k]))\n",
    "        else:\n",
    "            for k in FD002[i['id']].keys():\n",
    "                FD002[i['id']][k].append(float(i[k]))\n",
    "print(FD001)"
   ]
  },
  {
   "cell_type": "code",
   "execution_count": null,
   "metadata": {
    "scrolled": false
   },
   "outputs": [],
   "source": [
    "import numpy as np\n",
    "from matplotlib import pyplot as plt\n",
    "life_1 = []\n",
    "life_2 = []\n",
    "for i in range(1, 101):\n",
    "    id_name = \"FD001_\" + str(i)\n",
    "    life_1.append(len(FD001[id_name]['circle']))\n",
    "for i in range(1, 261):\n",
    "    id_name = \"FD002_\" + str(i)\n",
    "    life_2.append(len(FD002[id_name]['circle']))\n",
    "# life_2.sort()\n",
    "# print(life_2)\n",
    "# life_1.sort()\n",
    "# print(life_1)\n",
    "mean_1 = np.mean(life_1)\n",
    "mean_2 = np.mean(life_2)\n",
    "plt.figure(1,figsize=(15,6), dpi=240, facecolor=\"white\")\n",
    "plt.subplot(1,2,1)\n",
    "plt.title(\"The useful life of FD001\")\n",
    "plt.hist(life_1, bins=10, range=(125, 375), density=0, facecolor=\"deepskyblue\",edgecolor=\"black\")\n",
    "plt.text(mean_1+10, 25, \"average useful life: \"+str(round(mean_1, 2)), size = 15)\n",
    "plt.plot([mean_1,mean_1],[0,30],color=\"darkorange\",linestyle=\"--\")\n",
    "plt.subplot(1,2,2)\n",
    "plt.title(\"The useful life of FD002\")\n",
    "plt.hist(life_2, bins=11, range=(125, 400), density=0, facecolor=\"deepskyblue\",edgecolor=\"black\")\n",
    "plt.plot([mean_2,mean_1],[0,70],color=\"darkorange\",linestyle=\"--\")\n",
    "plt.text(mean_2+10, 60, \"average useful life: \"+str(round(mean_2, 2)), size = 15)\n",
    "plt.show()"
   ]
  },
  {
   "cell_type": "code",
   "execution_count": null,
   "metadata": {
    "scrolled": false
   },
   "outputs": [],
   "source": [
    "import pandas as pd\n",
    "FD1 = pd.DataFrame()\n",
    "for i in range(1,101):\n",
    "    name_id = \"FD001_\" + str(i)\n",
    "    dFD = pd.DataFrame(FD001[name_id])\n",
    "    FD1 = FD1.append(dFD)\n",
    "order = ['circle', 'os1', 'os2', 'os3'] + ['sensor' + str(i) for i in range(1, 22)]\n",
    "FD1 = FD1[order]\n",
    "FD1.describe().transpose()\n",
    "FD1.drop(['circle', 'sensor1', 'sensor5', 'sensor6', 'sensor10', 'sensor16', 'sensor18', 'sensor19', 'os3'], \n",
    "         axis=1, inplace=True)\n",
    "FD2 = pd.DataFrame()\n",
    "for i in range(1,261):\n",
    "    name_id = \"FD002_\" + str(i)\n",
    "    dFD = pd.DataFrame(FD002[name_id])\n",
    "    FD2 = FD2.append(dFD)\n",
    "order = ['circle', 'os1', 'os2', 'os3'] + ['sensor' + str(i) for i in range(1, 22)]\n",
    "FD2 = FD2[order]"
   ]
  },
  {
   "cell_type": "code",
   "execution_count": null,
   "metadata": {
    "scrolled": false
   },
   "outputs": [],
   "source": [
    "plt.figure(dpi=240)\n",
    "FD2.hist(bins=50, figsize=(18,16),facecolor=\"deepskyblue\")\n",
    "plt.show()"
   ]
  },
  {
   "cell_type": "code",
   "execution_count": null,
   "metadata": {
    "scrolled": false
   },
   "outputs": [],
   "source": [
    "plt.figure(dpi=240)\n",
    "FD1.hist(bins=50, figsize=(18,16),facecolor=\"deepskyblue\")\n",
    "plt.show()"
   ]
  },
  {
   "cell_type": "code",
   "execution_count": null,
   "metadata": {
    "scrolled": false
   },
   "outputs": [],
   "source": [
    "FD001_1 = FD001['FD001_1'].copy()\n",
    "t = FD001_1['circle']\n",
    "d = ['circle','sensor1','os3','sensor5','sensor6','sensor10','sensor16','sensor18','sensor19']\n",
    "[FD001_1.pop(i) for i in d]\n",
    "j = 1\n",
    "plt.figure(figsize=(10,20), dpi=240)\n",
    "for i in FD001_1.keys():\n",
    "    plt.subplot(8,2,j)\n",
    "    plt.plot(t, FD001_1[i], color='deepskyblue')\n",
    "    plt.xlabel(\"time\")\n",
    "    plt.ylabel(i)\n",
    "    j += 1\n",
    "plt.subplots_adjust(wspace =0.3, hspace =0.3)\n",
    "plt.show()"
   ]
  },
  {
   "cell_type": "code",
   "execution_count": null,
   "metadata": {
    "scrolled": false
   },
   "outputs": [],
   "source": [
    "import pywt\n",
    "def wavelet_denoising(data):\n",
    "    db4 = pywt.Wavelet('db4')\n",
    "    if type(data) is not None:\n",
    "        coeffs = pywt.wavedec(data, db4)\n",
    "        coeffs[-1] *= 0\n",
    "        coeffs[-2] *= 0\n",
    "        coeffs[-3] *= 0\n",
    "        meta = pywt.waverec(coeffs, db4)\n",
    "        return meta\n",
    "plt.figure(figsize=(10,20), dpi=240)\n",
    "j = 1\n",
    "for i in FD001_1.keys():\n",
    "    plt.subplot(8,2,j)\n",
    "    w = wavelet_denoising(FD001_1[i])\n",
    "    plt.plot(t, w, color='deepskyblue')\n",
    "    plt.xlabel(\"time\")\n",
    "    plt.ylabel(i)\n",
    "    j += 1\n",
    "plt.subplots_adjust(wspace =0.3, hspace =0.3)\n",
    "plt.show()"
   ]
  },
  {
   "cell_type": "code",
   "execution_count": null,
   "metadata": {},
   "outputs": [],
   "source": []
  },
  {
   "cell_type": "code",
   "execution_count": null,
   "metadata": {},
   "outputs": [],
   "source": []
  }
 ],
 "metadata": {
  "kernelspec": {
   "display_name": "Python 3",
   "language": "python",
   "name": "python3"
  },
  "language_info": {
   "codemirror_mode": {
    "name": "ipython",
    "version": 3
   },
   "file_extension": ".py",
   "mimetype": "text/x-python",
   "name": "python",
   "nbconvert_exporter": "python",
   "pygments_lexer": "ipython3",
   "version": "3.7.4"
  }
 },
 "nbformat": 4,
 "nbformat_minor": 2
}
