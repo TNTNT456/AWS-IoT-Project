{
 "cells": [
  {
   "cell_type": "code",
   "execution_count": null,
   "metadata": {},
   "outputs": [],
   "source": [
    "from AWSIoTPythonSDK.MQTTLib import AWSIoTMQTTShadowClient\n",
    "import pandas as pd\n",
    "import time\n",
    "SHADOW_CLIENT = \"A0195028B_3\"\n",
    "HOST_NAME = \"a2h9i547jb98l3-ats.iot.us-west-2.amazonaws.com\"\n",
    "ROOT_CA = \"/Users/yuxingli/Desktop/IoT/Amazon_Root_CA_1.pem\"\n",
    "PRIVATE_KEY = \"/Users/yuxingli/Desktop/IoT/69756c467d-private.pem.key\"\n",
    "CERT_FILE = \"/Users/yuxingli/Desktop/IoT/69756c467d-certificate.pem.crt\"\n",
    "SHADOW_HANDLER = \"A0195028B_3\"\n",
    "# Create, configure, and connect a shadow client.\n",
    "myShadowClient = AWSIoTMQTTShadowClient(SHADOW_CLIENT)\n",
    "myShadowClient.configureEndpoint(HOST_NAME, 8883)\n",
    "myShadowClient.configureCredentials(ROOT_CA, PRIVATE_KEY, CERT_FILE)\n",
    "myShadowClient.configureConnectDisconnectTimeout(10)\n",
    "myShadowClient.configureMQTTOperationTimeout(5)\n",
    "myShadowClient.connect()\n",
    "\n",
    "# Create a programmatic representation of the shadow.\n",
    "myDeviceShadow = myShadowClient.createShadowHandlerWithName(SHADOW_HANDLER, True)\n",
    "\n",
    "def myShadowUpdateCallback(payload, responseStatus, token):\n",
    "    print('UPDATE: $aws/things/' + SHADOW_HANDLER +'/shadow/update/#')\n",
    "    print(\"responseStatus = \" + responseStatus)\n",
    "\n",
    "CPIS = pd.read_csv('/Users/yuxingli/Desktop/IoT/consumer-price-index-base-year-2014-100-monthly.csv')\n",
    "CPI = pd.DataFrame()\n",
    "CPI = CPI.append([(CPIS.iloc[i*4]) for i in range(703)])\n",
    "CPI.index = pd.Series(range(703))\n",
    "CPI = CPI.drop(['level_1'], axis=1)\n",
    "for i in range(703):\n",
    "    j = CPI[i:i+1]\n",
    "    j = j.to_json(orient=\"records\")\n",
    "    myDeviceShadow.shadowUpdate(j[1:-1], myShadowUpdateCallback, 5)\n",
    "    time.sleep(0.2)"
   ]
  },
  {
   "cell_type": "code",
   "execution_count": null,
   "metadata": {},
   "outputs": [],
   "source": [
    "from __future__ import print_function \n",
    "import json\n",
    "import decimal\n",
    "\n",
    "\n",
    "class DecimalEncoder(json.JSONEncoder):\n",
    "    def default(self, o):\n",
    "        if isinstance(o, decimal.Decimal):\n",
    "            return str(o)\n",
    "        return super(DecimalEncoder, self).default(o)\n",
    "\n",
    "\n",
    "dynamodb = boto3.resource('dynamodb', region_name='us-west-2')\n",
    "table = dynamodb.Table('CPI')\n",
    "CPI_accrpted = {'month':[],'value':[]}\n",
    "response = table.scan()\n",
    "for i in response['Items']:\n",
    "    CPI_accrpted['month'].append(i['month'])\n",
    "    CPI_accrpted['value'].append(float(i['value']))\n",
    "CPI_pd = pd.DataFrame(CPI_accrpted)\n",
    "CPI_pd.sort_values(\"month\",inplace=True)\n",
    "CPI_pd.index = pd.Series(range(703))\n",
    "CPI_pd.transpose().head()"
   ]
  },
  {
   "cell_type": "code",
   "execution_count": null,
   "metadata": {
    "scrolled": false
   },
   "outputs": [],
   "source": [
    "from matplotlib import pyplot as plt\n",
    "import numpy as np\n",
    "CPI_se = pd.Series(CPI_pd[\"value\"])\n",
    "CPI_se.index = CPI_pd[\"month\"]\n",
    "plt.figure(1,dpi=240)\n",
    "pl = CPI_se.plot(figsize=(8,6),color = 'deepskyblue',kind='line')\n",
    "plt.xlabel(\"Month\")\n",
    "plt.ylabel(\"Value\")\n",
    "plt.title(\"Consumer Price Index, Monthly, Base Year 2014=100\")\n",
    "plt.grid(True)\n",
    "plt.show()"
   ]
  },
  {
   "cell_type": "code",
   "execution_count": null,
   "metadata": {},
   "outputs": [],
   "source": [
    "plt.figure(2,dpi=240)\n",
    "pl = CPI_se.plot(figsize=(8,6),color = 'deepskyblue',kind='hist')\n",
    "CPI_ave = CPI_se.count()/10\n",
    "plt.plot([22,102],[CPI_ave,CPI_ave],color=\"darkorange\",linestyle=\"--\")\n",
    "plt.xlabel(\"Value\")\n",
    "plt.ylabel(\"Sum\")\n",
    "plt.title(\"Consumer Price Index, Monthly, Base Year 2014=100\")\n",
    "plt.grid(True)\n",
    "plt.show()"
   ]
  },
  {
   "cell_type": "code",
   "execution_count": null,
   "metadata": {
    "scrolled": false
   },
   "outputs": [],
   "source": [
    "plt.figure(3,dpi = 240)\n",
    "CPI_gradient = CPI_se.diff()/CPI_a.shift(1)\n",
    "CPI_gradient_mean = CPI_gradient.mean()\n",
    "CPI_gradient.plot(color = \"deepskyblue\")\n",
    "plt.plot([0,703],[0,0],color = \"black\")\n",
    "plt.plot([0,703],[CPI_gradient_mean,CPI_gradient_mean],color=\"darkorange\",linestyle=\"--\")\n",
    "plt.text(280, 0.01, \"Average rate of\\nchange: \"+str(round(CPI_gradient_mean*100, 2))+'%', size = 10)\n",
    "plt.xlabel(\"Month\")\n",
    "plt.ylabel(\"Change rate\")\n",
    "plt.show()"
   ]
  },
  {
   "cell_type": "code",
   "execution_count": null,
   "metadata": {
    "scrolled": false
   },
   "outputs": [],
   "source": [
    "CPI_v = CPI_gradient.values - CPI_gradient_mean\n",
    "CPI_v = CPI_v[1:]\n",
    "CPI_v = np.append(CPI_v,[0 for i in range(702)])\n",
    "transformed = np.fft.fftshift(np.abs(np.fft.fft(CPI_v)))\n",
    "transformed = transformed[702:]\n",
    "plt.figure(4,dpi = 240)\n",
    "plt.plot([i/701 for i in range(702)],transformed,color = \"deepskyblue\")\n",
    "plt.grid(True)\n",
    "plt.xlabel(\"Frequency (1/month)\")\n",
    "plt.ylabel(\"Amplitude\")\n",
    "plt.show()"
   ]
  },
  {
   "cell_type": "code",
   "execution_count": null,
   "metadata": {
    "scrolled": false
   },
   "outputs": [],
   "source": []
  },
  {
   "cell_type": "code",
   "execution_count": null,
   "metadata": {},
   "outputs": [],
   "source": []
  }
 ],
 "metadata": {
  "kernelspec": {
   "display_name": "Python 3",
   "language": "python",
   "name": "python3"
  },
  "language_info": {
   "codemirror_mode": {
    "name": "ipython",
    "version": 3
   },
   "file_extension": ".py",
   "mimetype": "text/x-python",
   "name": "python",
   "nbconvert_exporter": "python",
   "pygments_lexer": "ipython3",
   "version": "3.7.4"
  }
 },
 "nbformat": 4,
 "nbformat_minor": 2
}
