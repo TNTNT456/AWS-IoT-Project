{
 "cells": [
  {
   "cell_type": "markdown",
   "metadata": {},
   "source": [
    "# AWS IoT"
   ]
  },
  {
   "cell_type": "code",
   "execution_count": null,
   "metadata": {},
   "outputs": [],
   "source": [
    "from AWSIoTPythonSDK.MQTTLib import AWSIoTMQTTShadowClient\n",
    "import requests\n",
    "import datetime\n",
    "import time\n",
    "import json\n",
    "\n",
    "SHADOW_CLIENT = \"A0195028B\"\n",
    "HOST_NAME = \"a2h9i547jb98l3-ats.iot.us-west-2.amazonaws.com\"\n",
    "ROOT_CA = \"/Users/yuxingli/Desktop/IoT/Amazon_Root_CA_1.pem\"\n",
    "PRIVATE_KEY = \"/Users/yuxingli/Desktop/IoT/336c8bdc07-private.pem.key\"\n",
    "CERT_FILE = \"/Users/yuxingli/Desktop/IoT/336c8bdc07-certificate.pem.crt\"\n",
    "SHADOW_HANDLER = \"A0195028B\"\n",
    "matricNo = \"A0195028B\"\n",
    "# Create, configure, and connect a shadow client.\n",
    "myShadowClient = AWSIoTMQTTShadowClient(SHADOW_CLIENT)\n",
    "myShadowClient.configureEndpoint(HOST_NAME, 8883)\n",
    "myShadowClient.configureCredentials(ROOT_CA, PRIVATE_KEY, CERT_FILE)\n",
    "myShadowClient.configureConnectDisconnectTimeout(10)\n",
    "myShadowClient.configureMQTTOperationTimeout(5)\n",
    "myShadowClient.connect()\n",
    "\n",
    "# Create a programmatic representation of the shadow.\n",
    "myDeviceShadow = myShadowClient.createShadowHandlerWithName(SHADOW_HANDLER, True)\n",
    "\n",
    "\n",
    "def myShadowUpdateCallback(payload, responseStatus, token):\n",
    "    print()\n",
    "    print('UPDATE: $aws/things/' + SHADOW_HANDLER +'/shadow/update/#')\n",
    "    print(\"payload = \" + payload)\n",
    "    print(\"responseStatus = \" + responseStatus)\n",
    "    print(\"token = \" + token)\n",
    "\n",
    "\n",
    "url = \"https://github.com/iceberg12/NUS_guest_lecture/blob/master/input/train_FD001.txt?raw=true\"\n",
    "r = requests.get(url)\n",
    "with open(\"train_FD001.txt\", \"wb\") as code:\n",
    "    code.write(r.content)\n",
    "f = open(\"train_FD001.txt\")\n",
    "line = f.readlines()\n",
    "\n",
    "for i in line:\n",
    "    x = i.split()\n",
    "    x[0] = 'FD001_'+x[0]\n",
    "    y = {\"id\": x[0], \"circle\": x[1], \"os1\": x[2], \"os2\": x[3], \"os3\": x[4]}\n",
    "    for j in range(21):\n",
    "        y[\"sensor\"+str(j+1)] = x[j+5]\n",
    "    t = datetime.datetime.now().strftime('%Y-%m-%d %H:%M:%S.%f')\n",
    "    y[\"timestamp\"] = (t)\n",
    "    y[\"Matric No\"] = matricNo\n",
    "    myDeviceShadow.shadowUpdate(str(json.dumps(y)), myShadowUpdateCallback, 5)\n",
    "    time.sleep(0.2)"
   ]
  },
  {
   "cell_type": "code",
   "execution_count": null,
   "metadata": {},
   "outputs": [],
   "source": []
  },
  {
   "cell_type": "code",
   "execution_count": null,
   "metadata": {},
   "outputs": [],
   "source": []
  },
  {
   "cell_type": "code",
   "execution_count": null,
   "metadata": {},
   "outputs": [],
   "source": []
  },
  {
   "cell_type": "code",
   "execution_count": null,
   "metadata": {},
   "outputs": [],
   "source": []
  },
  {
   "cell_type": "code",
   "execution_count": null,
   "metadata": {},
   "outputs": [],
   "source": []
  },
  {
   "cell_type": "code",
   "execution_count": null,
   "metadata": {},
   "outputs": [],
   "source": []
  }
 ],
 "metadata": {
  "kernelspec": {
   "display_name": "Python 3",
   "language": "python",
   "name": "python3"
  },
  "language_info": {
   "codemirror_mode": {
    "name": "ipython",
    "version": 3
   },
   "file_extension": ".py",
   "mimetype": "text/x-python",
   "name": "python",
   "nbconvert_exporter": "python",
   "pygments_lexer": "ipython3",
   "version": "3.7.4"
  }
 },
 "nbformat": 4,
 "nbformat_minor": 2
}
